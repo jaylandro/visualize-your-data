{
 "cells": [
  {
   "source": [
    "The Happy Planet Index (HPI) is a measure of sustainable wellbeing. It compares how efficiently residents of different countries are using natural resources to achieve long, high wellbeing lives.\n",
    "\n",
    "Happy Planet Index = ( Life expectancy x Experienced wellbeing x Inequality of outcomes ) / Ecological Footprint\n",
    "\n",
    "[http://happyplanetindex.org/](http://happyplanetindex.org/)"
   ],
   "cell_type": "markdown",
   "metadata": {}
  },
  {
   "cell_type": "code",
   "execution_count": 12,
   "metadata": {},
   "outputs": [],
   "source": [
    "import pandas as pd\n",
    "import lux"
   ]
  },
  {
   "cell_type": "code",
   "execution_count": 13,
   "metadata": {},
   "outputs": [
    {
     "output_type": "execute_result",
     "data": {
      "text/plain": [
       "     HPIRank      Country                     SubRegion  \\\n",
       "0        110  Afghanistan  Middle East and North Africa   \n",
       "1         13      Albania                Post-communist   \n",
       "2         30      Algeria  Middle East and North Africa   \n",
       "3         19    Argentina                      Americas   \n",
       "4         73      Armenia                Post-communist   \n",
       "..       ...          ...                           ...   \n",
       "135       29    Venezuela                      Americas   \n",
       "136        5      Vietnam                  Asia Pacific   \n",
       "137       94        Yemen  Middle East and North Africa   \n",
       "138       77       Zambia            Sub Saharan Africa   \n",
       "139       99     Zimbabwe            Sub Saharan Africa   \n",
       "\n",
       "     AverageLifeExpectancy  AverageWellBeing  HappyLifeYears  Footprint  \\\n",
       "0                     59.7               3.8            12.4        0.8   \n",
       "1                     77.3               5.5            34.4        2.2   \n",
       "2                     74.3               5.6            30.5        2.1   \n",
       "3                     75.9               6.5            40.2        3.1   \n",
       "4                     74.4               4.3            24.0        2.2   \n",
       "..                     ...               ...             ...        ...   \n",
       "135                   73.9               7.1            41.5        3.6   \n",
       "136                   75.5               5.5            32.8        1.7   \n",
       "137                   63.3               4.1            15.2        1.0   \n",
       "138                   58.4               5.0            16.7        1.0   \n",
       "139                   53.7               5.0            16.4        1.4   \n",
       "\n",
       "     InequalityOfOutcomes  InequalityAdjustedLifeExpectancy  \\\n",
       "0                    0.43                              38.3   \n",
       "1                    0.17                              69.7   \n",
       "2                    0.24                              60.5   \n",
       "3                    0.16                              68.3   \n",
       "4                    0.22                              66.9   \n",
       "..                    ...                               ...   \n",
       "135                  0.19                              65.5   \n",
       "136                  0.19                              64.8   \n",
       "137                  0.39                              44.7   \n",
       "138                  0.41                              38.7   \n",
       "139                  0.37                              36.9   \n",
       "\n",
       "     InequalityAdjustedWellbeing  HappyPlanetIndex  GDPPerCapita  Population  \n",
       "0                            3.4              20.2           691    29726803  \n",
       "1                            5.1              36.8          4247     2900489  \n",
       "2                            5.2              33.3          5584    37439427  \n",
       "3                            6.0              35.2         14357    42095224  \n",
       "4                            3.7              25.7          3566     2978339  \n",
       "..                           ...               ...           ...         ...  \n",
       "135                          6.5              33.6         12772    29854238  \n",
       "136                          5.2              40.3          1755    88809200  \n",
       "137                          3.6              22.8          1289    24882792  \n",
       "138                          4.5              25.2          1687    14786581  \n",
       "139                          4.6              22.1           851    14565482  \n",
       "\n",
       "[140 rows x 13 columns]"
      ],
      "text/html": "<div>\n<style scoped>\n    .dataframe tbody tr th:only-of-type {\n        vertical-align: middle;\n    }\n\n    .dataframe tbody tr th {\n        vertical-align: top;\n    }\n\n    .dataframe thead th {\n        text-align: right;\n    }\n</style>\n<table border=\"1\" class=\"dataframe\">\n  <thead>\n    <tr style=\"text-align: right;\">\n      <th></th>\n      <th>HPIRank</th>\n      <th>Country</th>\n      <th>SubRegion</th>\n      <th>AverageLifeExpectancy</th>\n      <th>AverageWellBeing</th>\n      <th>HappyLifeYears</th>\n      <th>Footprint</th>\n      <th>InequalityOfOutcomes</th>\n      <th>InequalityAdjustedLifeExpectancy</th>\n      <th>InequalityAdjustedWellbeing</th>\n      <th>HappyPlanetIndex</th>\n      <th>GDPPerCapita</th>\n      <th>Population</th>\n    </tr>\n  </thead>\n  <tbody>\n    <tr>\n      <th>0</th>\n      <td>110</td>\n      <td>Afghanistan</td>\n      <td>Middle East and North Africa</td>\n      <td>59.7</td>\n      <td>3.8</td>\n      <td>12.4</td>\n      <td>0.8</td>\n      <td>0.43</td>\n      <td>38.3</td>\n      <td>3.4</td>\n      <td>20.2</td>\n      <td>691</td>\n      <td>29726803</td>\n    </tr>\n    <tr>\n      <th>1</th>\n      <td>13</td>\n      <td>Albania</td>\n      <td>Post-communist</td>\n      <td>77.3</td>\n      <td>5.5</td>\n      <td>34.4</td>\n      <td>2.2</td>\n      <td>0.17</td>\n      <td>69.7</td>\n      <td>5.1</td>\n      <td>36.8</td>\n      <td>4247</td>\n      <td>2900489</td>\n    </tr>\n    <tr>\n      <th>2</th>\n      <td>30</td>\n      <td>Algeria</td>\n      <td>Middle East and North Africa</td>\n      <td>74.3</td>\n      <td>5.6</td>\n      <td>30.5</td>\n      <td>2.1</td>\n      <td>0.24</td>\n      <td>60.5</td>\n      <td>5.2</td>\n      <td>33.3</td>\n      <td>5584</td>\n      <td>37439427</td>\n    </tr>\n    <tr>\n      <th>3</th>\n      <td>19</td>\n      <td>Argentina</td>\n      <td>Americas</td>\n      <td>75.9</td>\n      <td>6.5</td>\n      <td>40.2</td>\n      <td>3.1</td>\n      <td>0.16</td>\n      <td>68.3</td>\n      <td>6.0</td>\n      <td>35.2</td>\n      <td>14357</td>\n      <td>42095224</td>\n    </tr>\n    <tr>\n      <th>4</th>\n      <td>73</td>\n      <td>Armenia</td>\n      <td>Post-communist</td>\n      <td>74.4</td>\n      <td>4.3</td>\n      <td>24.0</td>\n      <td>2.2</td>\n      <td>0.22</td>\n      <td>66.9</td>\n      <td>3.7</td>\n      <td>25.7</td>\n      <td>3566</td>\n      <td>2978339</td>\n    </tr>\n    <tr>\n      <th>...</th>\n      <td>...</td>\n      <td>...</td>\n      <td>...</td>\n      <td>...</td>\n      <td>...</td>\n      <td>...</td>\n      <td>...</td>\n      <td>...</td>\n      <td>...</td>\n      <td>...</td>\n      <td>...</td>\n      <td>...</td>\n      <td>...</td>\n    </tr>\n    <tr>\n      <th>135</th>\n      <td>29</td>\n      <td>Venezuela</td>\n      <td>Americas</td>\n      <td>73.9</td>\n      <td>7.1</td>\n      <td>41.5</td>\n      <td>3.6</td>\n      <td>0.19</td>\n      <td>65.5</td>\n      <td>6.5</td>\n      <td>33.6</td>\n      <td>12772</td>\n      <td>29854238</td>\n    </tr>\n    <tr>\n      <th>136</th>\n      <td>5</td>\n      <td>Vietnam</td>\n      <td>Asia Pacific</td>\n      <td>75.5</td>\n      <td>5.5</td>\n      <td>32.8</td>\n      <td>1.7</td>\n      <td>0.19</td>\n      <td>64.8</td>\n      <td>5.2</td>\n      <td>40.3</td>\n      <td>1755</td>\n      <td>88809200</td>\n    </tr>\n    <tr>\n      <th>137</th>\n      <td>94</td>\n      <td>Yemen</td>\n      <td>Middle East and North Africa</td>\n      <td>63.3</td>\n      <td>4.1</td>\n      <td>15.2</td>\n      <td>1.0</td>\n      <td>0.39</td>\n      <td>44.7</td>\n      <td>3.6</td>\n      <td>22.8</td>\n      <td>1289</td>\n      <td>24882792</td>\n    </tr>\n    <tr>\n      <th>138</th>\n      <td>77</td>\n      <td>Zambia</td>\n      <td>Sub Saharan Africa</td>\n      <td>58.4</td>\n      <td>5.0</td>\n      <td>16.7</td>\n      <td>1.0</td>\n      <td>0.41</td>\n      <td>38.7</td>\n      <td>4.5</td>\n      <td>25.2</td>\n      <td>1687</td>\n      <td>14786581</td>\n    </tr>\n    <tr>\n      <th>139</th>\n      <td>99</td>\n      <td>Zimbabwe</td>\n      <td>Sub Saharan Africa</td>\n      <td>53.7</td>\n      <td>5.0</td>\n      <td>16.4</td>\n      <td>1.4</td>\n      <td>0.37</td>\n      <td>36.9</td>\n      <td>4.6</td>\n      <td>22.1</td>\n      <td>851</td>\n      <td>14565482</td>\n    </tr>\n  </tbody>\n</table>\n<p>140 rows × 13 columns</p>\n</div>"
     },
     "metadata": {},
     "execution_count": 13
    }
   ],
   "source": [
    "df = pd.read_csv(\"https://raw.githubusercontent.com/lux-org/lux-datasets/master/data/hpi.csv\")\n",
    "df"
   ]
  }
 ],
 "metadata": {
  "kernelspec": {
   "name": "python3",
   "display_name": "Python 3.9.0 64-bit",
   "metadata": {
    "interpreter": {
     "hash": "ac2eaa0ea0ebeafcc7822e65e46aa9d4f966f30b695406963e145ea4a91cd4fc"
    }
   }
  },
  "language_info": {
   "codemirror_mode": {
    "name": "ipython",
    "version": 3
   },
   "file_extension": ".py",
   "mimetype": "text/x-python",
   "name": "python",
   "nbconvert_exporter": "python",
   "pygments_lexer": "ipython3",
   "version": "3.9.0-final"
  }
 },
 "nbformat": 4,
 "nbformat_minor": 4
}